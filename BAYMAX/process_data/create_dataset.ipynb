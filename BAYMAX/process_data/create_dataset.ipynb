{
 "cells": [
  {
   "cell_type": "code",
   "execution_count": 2,
   "metadata": {},
   "outputs": [],
   "source": [
    "import praw\n",
    "import pandas as pd\n",
    "import requests\n",
    "import time\n",
    "import tqdm\n",
    "from dotenv import load_dotenv\n",
    "import os"
   ]
  },
  {
   "cell_type": "code",
   "execution_count": 3,
   "metadata": {},
   "outputs": [
    {
     "data": {
      "text/plain": [
       "True"
      ]
     },
     "execution_count": 3,
     "metadata": {},
     "output_type": "execute_result"
    }
   ],
   "source": [
    "load_dotenv()"
   ]
  },
  {
   "cell_type": "code",
   "execution_count": 4,
   "metadata": {},
   "outputs": [],
   "source": [
    "api = praw.Reddit(client_id=os.getenv('client_id'),\n",
    "                  client_secret=os.getenv('client_secret'), user_agent=os.getenv('user_agent'))\n"
   ]
  },
  {
   "cell_type": "code",
   "execution_count": 5,
   "metadata": {},
   "outputs": [],
   "source": [
    "import pandas as pd\n",
    "posts = []\n",
    "sb = api.subreddit('roastme')\n",
    "for post in sb.top(limit=10):\n",
    "    posts.append([post.title, post.score, post.id, post.subreddit,\n",
    "                 post.url, post.num_comments, post.selftext, post.created])\n",
    "posts = pd.DataFrame(posts, columns=[\n",
    "                     'title', 'score', 'id', 'subreddit', 'url', 'num_comments', 'body', 'created'])\n",
    "submission_ids = posts['id'].values"
   ]
  },
  {
   "cell_type": "code",
   "execution_count": 6,
   "metadata": {},
   "outputs": [],
   "source": [
    "def get_comments(submission_id):\n",
    "    submission = api.submission(id=submission_id)\n",
    "    submission.comment_sort = 'top'\n",
    "    submission.comment_limit = 1\n",
    "    top_comment = submission.comments[0]\n",
    "    return top_comment.body"
   ]
  },
  {
   "cell_type": "code",
   "execution_count": 7,
   "metadata": {},
   "outputs": [
    {
     "name": "stderr",
     "output_type": "stream",
     "text": [
      "100%|██████████| 10/10 [00:20<00:00,  2.01s/it]\n"
     ]
    }
   ],
   "source": [
    "# add comments to dataframe\n",
    "comments = []\n",
    "for submission_id in tqdm.tqdm(submission_ids):\n",
    "    comments.append(get_comments(submission_id))\n",
    "    time.sleep(1)\n",
    "posts['comments'] = comments"
   ]
  },
  {
   "cell_type": "code",
   "execution_count": 8,
   "metadata": {},
   "outputs": [
    {
     "data": {
      "text/html": [
       "<div>\n",
       "<style scoped>\n",
       "    .dataframe tbody tr th:only-of-type {\n",
       "        vertical-align: middle;\n",
       "    }\n",
       "\n",
       "    .dataframe tbody tr th {\n",
       "        vertical-align: top;\n",
       "    }\n",
       "\n",
       "    .dataframe thead th {\n",
       "        text-align: right;\n",
       "    }\n",
       "</style>\n",
       "<table border=\"1\" class=\"dataframe\">\n",
       "  <thead>\n",
       "    <tr style=\"text-align: right;\">\n",
       "      <th></th>\n",
       "      <th>title</th>\n",
       "      <th>score</th>\n",
       "      <th>id</th>\n",
       "      <th>subreddit</th>\n",
       "      <th>url</th>\n",
       "      <th>num_comments</th>\n",
       "      <th>body</th>\n",
       "      <th>created</th>\n",
       "      <th>comments</th>\n",
       "    </tr>\n",
       "  </thead>\n",
       "  <tbody>\n",
       "    <tr>\n",
       "      <th>0</th>\n",
       "      <td>Thank you for all the support! Seeing complete...</td>\n",
       "      <td>98092</td>\n",
       "      <td>amnyr9</td>\n",
       "      <td>RoastMe</td>\n",
       "      <td>https://i.redd.it/s2fi2wr7ibe21.jpg</td>\n",
       "      <td>2550</td>\n",
       "      <td></td>\n",
       "      <td>1.549184e+09</td>\n",
       "      <td>Glad you're doing great OP. You're now the top...</td>\n",
       "    </tr>\n",
       "    <tr>\n",
       "      <th>1</th>\n",
       "      <td>Let's Roast the Coronavirus</td>\n",
       "      <td>77088</td>\n",
       "      <td>fnwcch</td>\n",
       "      <td>RoastMe</td>\n",
       "      <td>https://i.redd.it/1xgka63ywio41.png</td>\n",
       "      <td>3939</td>\n",
       "      <td></td>\n",
       "      <td>1.585013e+09</td>\n",
       "      <td>Wish.com ebola.</td>\n",
       "    </tr>\n",
       "    <tr>\n",
       "      <th>2</th>\n",
       "      <td>Ten years ago I purchased a $50 Groupon for pr...</td>\n",
       "      <td>68636</td>\n",
       "      <td>ecw1ov</td>\n",
       "      <td>RoastMe</td>\n",
       "      <td>https://i.redd.it/qcrbkirlgm541.jpg</td>\n",
       "      <td>2255</td>\n",
       "      <td></td>\n",
       "      <td>1.576775e+09</td>\n",
       "      <td>This is like the creepiest Brady Bunch intro I...</td>\n",
       "    </tr>\n",
       "    <tr>\n",
       "      <th>3</th>\n",
       "      <td>I roasted this baby picture my Mom printed on ...</td>\n",
       "      <td>58785</td>\n",
       "      <td>dwo2th</td>\n",
       "      <td>RoastMe</td>\n",
       "      <td>https://i.redd.it/kzrr5a1odty31.jpg</td>\n",
       "      <td>4480</td>\n",
       "      <td></td>\n",
       "      <td>1.573808e+09</td>\n",
       "      <td>Well we now know at least one kid who wasn't m...</td>\n",
       "    </tr>\n",
       "    <tr>\n",
       "      <th>4</th>\n",
       "      <td>3.2 million karma and accepted to Harvard but ...</td>\n",
       "      <td>57513</td>\n",
       "      <td>bb6nwq</td>\n",
       "      <td>RoastMe</td>\n",
       "      <td>https://i.redd.it/d3ht20kk28r21.jpg</td>\n",
       "      <td>4981</td>\n",
       "      <td></td>\n",
       "      <td>1.554809e+09</td>\n",
       "      <td>You look like the guy who does his mates’ math...</td>\n",
       "    </tr>\n",
       "  </tbody>\n",
       "</table>\n",
       "</div>"
      ],
      "text/plain": [
       "                                               title  score      id subreddit  \\\n",
       "0  Thank you for all the support! Seeing complete...  98092  amnyr9   RoastMe   \n",
       "1                        Let's Roast the Coronavirus  77088  fnwcch   RoastMe   \n",
       "2  Ten years ago I purchased a $50 Groupon for pr...  68636  ecw1ov   RoastMe   \n",
       "3  I roasted this baby picture my Mom printed on ...  58785  dwo2th   RoastMe   \n",
       "4  3.2 million karma and accepted to Harvard but ...  57513  bb6nwq   RoastMe   \n",
       "\n",
       "                                   url  num_comments body       created  \\\n",
       "0  https://i.redd.it/s2fi2wr7ibe21.jpg          2550       1.549184e+09   \n",
       "1  https://i.redd.it/1xgka63ywio41.png          3939       1.585013e+09   \n",
       "2  https://i.redd.it/qcrbkirlgm541.jpg          2255       1.576775e+09   \n",
       "3  https://i.redd.it/kzrr5a1odty31.jpg          4480       1.573808e+09   \n",
       "4  https://i.redd.it/d3ht20kk28r21.jpg          4981       1.554809e+09   \n",
       "\n",
       "                                            comments  \n",
       "0  Glad you're doing great OP. You're now the top...  \n",
       "1                                    Wish.com ebola.  \n",
       "2  This is like the creepiest Brady Bunch intro I...  \n",
       "3  Well we now know at least one kid who wasn't m...  \n",
       "4  You look like the guy who does his mates’ math...  "
      ]
     },
     "execution_count": 8,
     "metadata": {},
     "output_type": "execute_result"
    }
   ],
   "source": [
    "posts.head()"
   ]
  },
  {
   "cell_type": "code",
   "execution_count": 9,
   "metadata": {},
   "outputs": [
    {
     "data": {
      "text/html": [
       "<div>\n",
       "<style scoped>\n",
       "    .dataframe tbody tr th:only-of-type {\n",
       "        vertical-align: middle;\n",
       "    }\n",
       "\n",
       "    .dataframe tbody tr th {\n",
       "        vertical-align: top;\n",
       "    }\n",
       "\n",
       "    .dataframe thead th {\n",
       "        text-align: right;\n",
       "    }\n",
       "</style>\n",
       "<table border=\"1\" class=\"dataframe\">\n",
       "  <thead>\n",
       "    <tr style=\"text-align: right;\">\n",
       "      <th></th>\n",
       "      <th>title</th>\n",
       "      <th>comments</th>\n",
       "    </tr>\n",
       "  </thead>\n",
       "  <tbody>\n",
       "    <tr>\n",
       "      <th>0</th>\n",
       "      <td>Thank you for all the support! Seeing complete...</td>\n",
       "      <td>Glad you're doing great OP. You're now the top...</td>\n",
       "    </tr>\n",
       "    <tr>\n",
       "      <th>1</th>\n",
       "      <td>Let's Roast the Coronavirus</td>\n",
       "      <td>Wish.com ebola.</td>\n",
       "    </tr>\n",
       "    <tr>\n",
       "      <th>2</th>\n",
       "      <td>Ten years ago I purchased a $50 Groupon for pr...</td>\n",
       "      <td>This is like the creepiest Brady Bunch intro I...</td>\n",
       "    </tr>\n",
       "    <tr>\n",
       "      <th>3</th>\n",
       "      <td>I roasted this baby picture my Mom printed on ...</td>\n",
       "      <td>Well we now know at least one kid who wasn't m...</td>\n",
       "    </tr>\n",
       "    <tr>\n",
       "      <th>4</th>\n",
       "      <td>3.2 million karma and accepted to Harvard but ...</td>\n",
       "      <td>You look like the guy who does his mates’ math...</td>\n",
       "    </tr>\n",
       "  </tbody>\n",
       "</table>\n",
       "</div>"
      ],
      "text/plain": [
       "                                               title  \\\n",
       "0  Thank you for all the support! Seeing complete...   \n",
       "1                        Let's Roast the Coronavirus   \n",
       "2  Ten years ago I purchased a $50 Groupon for pr...   \n",
       "3  I roasted this baby picture my Mom printed on ...   \n",
       "4  3.2 million karma and accepted to Harvard but ...   \n",
       "\n",
       "                                            comments  \n",
       "0  Glad you're doing great OP. You're now the top...  \n",
       "1                                    Wish.com ebola.  \n",
       "2  This is like the creepiest Brady Bunch intro I...  \n",
       "3  Well we now know at least one kid who wasn't m...  \n",
       "4  You look like the guy who does his mates’ math...  "
      ]
     },
     "execution_count": 9,
     "metadata": {},
     "output_type": "execute_result"
    }
   ],
   "source": [
    "# get only title and comments \n",
    "df = posts[['title', 'comments']]\n",
    "df.head()"
   ]
  },
  {
   "cell_type": "code",
   "execution_count": 10,
   "metadata": {},
   "outputs": [],
   "source": [
    "# save to csv\n",
    "df.to_csv('../reddit_data.csv', index=False)"
   ]
  }
 ],
 "metadata": {
  "kernelspec": {
   "display_name": "Python 3.8.11 ('partner')",
   "language": "python",
   "name": "python3"
  },
  "language_info": {
   "codemirror_mode": {
    "name": "ipython",
    "version": 3
   },
   "file_extension": ".py",
   "mimetype": "text/x-python",
   "name": "python",
   "nbconvert_exporter": "python",
   "pygments_lexer": "ipython3",
   "version": "3.8.11"
  },
  "orig_nbformat": 4,
  "vscode": {
   "interpreter": {
    "hash": "278fdc6b57593b94e027caacad0d1e50ba311fd9eadb88ec9cf265596bd1a727"
   }
  }
 },
 "nbformat": 4,
 "nbformat_minor": 2
}

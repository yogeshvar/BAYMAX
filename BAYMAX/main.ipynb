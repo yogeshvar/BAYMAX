{
 "cells": [
  {
   "cell_type": "code",
   "execution_count": 5,
   "metadata": {},
   "outputs": [],
   "source": [
    "import logging\n",
    "logging.basicConfig(level=logging.ERROR)"
   ]
  },
  {
   "cell_type": "code",
   "execution_count": 6,
   "metadata": {},
   "outputs": [],
   "source": [
    "from transformers import GPT2Tokenizer, GPT2Model\n",
    "enc = GPT2Tokenizer.from_pretrained('gpt2-medium')\n",
    "enc.add_tokens(['<SPLIT>', '<START>', '<END>'])\n",
    "eos = enc.encoder[\"<|endoftext|>\"]"
   ]
  },
  {
   "cell_type": "code",
   "execution_count": 7,
   "metadata": {},
   "outputs": [],
   "source": [
    "# load from reddit_data.csv\n",
    "import pandas as pd\n",
    "df = pd.read_csv('dataset/reddit_data.csv')\n",
    "seeker_posts = df['title'].tolist()\n",
    "response_posts = df['comments'].tolist()"
   ]
  },
  {
   "cell_type": "code",
   "execution_count": 8,
   "metadata": {},
   "outputs": [],
   "source": [
    "from DYME.src.dyme.empathy_classifier import EmpathyClassifier\n",
    "empathy_classifier = EmpathyClassifier()"
   ]
  },
  {
   "cell_type": "code",
   "execution_count": 37,
   "metadata": {},
   "outputs": [
    {
     "name": "stdout",
     "output_type": "stream",
     "text": [
      "(0, 0, 0)\n"
     ]
    }
   ],
   "source": [
    "seeker_text = \"I feel like nobody cares about my existence.\"\n",
    "response_text = \"It’s hard when you’re with such people and they are being like that to you. I understand completely. I feel the same way.\"\n",
    "empathy_score = empathy_classifier.predict_empathy(seeker_text, response_text)\n",
    "print(empathy_score)"
   ]
  },
  {
   "cell_type": "code",
   "execution_count": 10,
   "metadata": {},
   "outputs": [
    {
     "name": "stdout",
     "output_type": "stream",
     "text": [
      "ER 0 IP 0 EX 0\n",
      "ER 0 IP 0 EX 0\n",
      "ER 0 IP 0 EX 0\n",
      "ER 0 IP 0 EX 0\n",
      "ER 0 IP 0 EX 0\n",
      "ER 0 IP 0 EX 0\n",
      "ER 0 IP 0 EX 0\n",
      "ER 0 IP 0 EX 0\n",
      "ER 0 IP 0 EX 0\n",
      "ER 0 IP 0 EX 0\n"
     ]
    }
   ],
   "source": [
    "# iterate through seeker_posts and response_posts\n",
    "for seeker_post, response_post in zip(seeker_posts, response_posts):\n",
    "    empathy_score = empathy_classifier.predict_empathy(seeker_post, response_post)\n",
    "    print('ER', empathy_score[0], 'IP', empathy_score[1], 'EX', empathy_score[2])"
   ]
  },
  {
   "cell_type": "code",
   "execution_count": 33,
   "metadata": {},
   "outputs": [
    {
     "name": "stderr",
     "output_type": "stream",
     "text": [
      "b'Skipping line 2355: expected 8 fields, saw 10\\nSkipping line 36628: expected 8 fields, saw 12\\nSkipping line 49433: expected 8 fields, saw 10\\nSkipping line 56957: expected 8 fields, saw 10\\nSkipping line 65019: expected 8 fields, saw 10\\n'\n"
     ]
    }
   ],
   "source": [
    "# load from empathetic_dialogues/train.csv\n",
    "import pandas as pd\n",
    "df = pd.read_csv('dataset/empatheticdialogues/train.csv',\n",
    "                error_bad_lines=False)\n",
    "\n",
    "# get only hopeful and angry rows\n",
    "df = df[(df['context'] == 'hopeful')]\n",
    "\n",
    "# pick random 25 rows\n",
    "import random\n",
    "df = df.sample(n=10)\n",
    "\n",
    "\n",
    "\n",
    "seeker_posts = df['prompt'].tolist()\n",
    "response_posts = df['utterance'].tolist()"
   ]
  },
  {
   "cell_type": "code",
   "execution_count": 34,
   "metadata": {},
   "outputs": [
    {
     "name": "stdout",
     "output_type": "stream",
     "text": [
      "ER 0 IP 0 EX 0\n",
      "ER 0 IP 0 EX 2\n",
      "ER 0 IP 0 EX 2\n",
      "ER 0 IP 0 EX 0\n",
      "ER 0 IP 0 EX 0\n",
      "ER 0 IP 0 EX 2\n",
      "ER 0 IP 0 EX 0\n",
      "ER 0 IP 0 EX 0\n",
      "ER 0 IP 0 EX 0\n",
      "ER 0 IP 0 EX 0\n"
     ]
    }
   ],
   "source": [
    "for seeker_post, response_post in zip(seeker_posts, response_posts):\n",
    "    empathy_score = empathy_classifier.predict_empathy(seeker_post, response_post)\n",
    "    print('ER', empathy_score[0], 'IP', empathy_score[1], 'EX', empathy_score[2])"
   ]
  }
 ],
 "metadata": {
  "kernelspec": {
   "display_name": "Python 3.8.11 ('partner')",
   "language": "python",
   "name": "python3"
  },
  "language_info": {
   "codemirror_mode": {
    "name": "ipython",
    "version": 3
   },
   "file_extension": ".py",
   "mimetype": "text/x-python",
   "name": "python",
   "nbconvert_exporter": "python",
   "pygments_lexer": "ipython3",
   "version": "3.8.11"
  },
  "orig_nbformat": 4,
  "vscode": {
   "interpreter": {
    "hash": "278fdc6b57593b94e027caacad0d1e50ba311fd9eadb88ec9cf265596bd1a727"
   }
  }
 },
 "nbformat": 4,
 "nbformat_minor": 2
}

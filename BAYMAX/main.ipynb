{
 "cells": [
  {
   "cell_type": "code",
   "execution_count": 1,
   "metadata": {},
   "outputs": [],
   "source": [
    "import logging\n",
    "logging.basicConfig(level=logging.ERROR)"
   ]
  },
  {
   "cell_type": "code",
   "execution_count": 2,
   "metadata": {},
   "outputs": [],
   "source": [
    "from transformers import GPT2Tokenizer, GPT2Model\n",
    "enc = GPT2Tokenizer.from_pretrained('gpt2-medium')\n",
    "enc.add_tokens(['<SPLIT>', '<START>', '<END>'])\n",
    "eos = enc.encoder[\"<|endoftext|>\"]"
   ]
  },
  {
   "cell_type": "code",
   "execution_count": 3,
   "metadata": {},
   "outputs": [],
   "source": [
    "# load from reddit_data.csv\n",
    "import pandas as pd\n",
    "df = pd.read_csv('../reddit_data.csv')\n",
    "# get title, comments\n",
    "seeker_posts = df['title'].tolist()\n",
    "response_posts = df['comments'].tolist()"
   ]
  },
  {
   "cell_type": "code",
   "execution_count": 4,
   "metadata": {},
   "outputs": [],
   "source": [
    "from DYME.src.dyme.empathy_classifier import EmpathyClassifier\n",
    "empathy_classifier = EmpathyClassifier()"
   ]
  },
  {
   "cell_type": "code",
   "execution_count": 11,
   "metadata": {},
   "outputs": [
    {
     "name": "stdout",
     "output_type": "stream",
     "text": [
      "(0, 0, 2)\n"
     ]
    }
   ],
   "source": [
    "seeker_text = \"I overthink everything my friends say. I disregard them when they praise me but if they say something negative I take it so personally. I’m sick of being so paranoid.\"\n",
    "response_text = \"What?\"\n",
    "empathy_score = empathy_classifier.predict_empathy(seeker_text, response_text)\n",
    "print(empathy_score)"
   ]
  },
  {
   "cell_type": "code",
   "execution_count": 6,
   "metadata": {},
   "outputs": [
    {
     "name": "stdout",
     "output_type": "stream",
     "text": [
      "ER 0 IP 0 EX 0\n",
      "ER 0 IP 0 EX 0\n",
      "ER 0 IP 0 EX 0\n",
      "ER 0 IP 0 EX 0\n",
      "ER 0 IP 0 EX 0\n",
      "ER 0 IP 0 EX 0\n",
      "ER 0 IP 0 EX 0\n",
      "ER 0 IP 0 EX 0\n",
      "ER 0 IP 0 EX 0\n",
      "ER 0 IP 0 EX 0\n"
     ]
    }
   ],
   "source": [
    "# iterate through seeker_posts and response_posts\n",
    "for seeker_post, response_post in zip(seeker_posts, response_posts):\n",
    "    empathy_score = empathy_classifier.predict_empathy(seeker_post, response_post)\n",
    "    print('ER', empathy_score[0], 'IP', empathy_score[1], 'EX', empathy_score[2])"
   ]
  }
 ],
 "metadata": {
  "kernelspec": {
   "display_name": "Python 3.8.11 ('partner')",
   "language": "python",
   "name": "python3"
  },
  "language_info": {
   "codemirror_mode": {
    "name": "ipython",
    "version": 3
   },
   "file_extension": ".py",
   "mimetype": "text/x-python",
   "name": "python",
   "nbconvert_exporter": "python",
   "pygments_lexer": "ipython3",
   "version": "3.8.11"
  },
  "orig_nbformat": 4,
  "vscode": {
   "interpreter": {
    "hash": "278fdc6b57593b94e027caacad0d1e50ba311fd9eadb88ec9cf265596bd1a727"
   }
  }
 },
 "nbformat": 4,
 "nbformat_minor": 2
}
